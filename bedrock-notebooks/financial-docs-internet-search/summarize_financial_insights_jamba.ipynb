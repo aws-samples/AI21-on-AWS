{
 "cells": [
  {
   "cell_type": "markdown",
   "id": "eb0f176a-17b1-4689-a390-b37a5c9374e5",
   "metadata": {},
   "source": [
    "# Generate Insights Based on Document and Internet Search using Jamba 1.5 on Bedrock with Converse API\n",
    "\n",
    "A key issue frequently faced by enterprise companies is the ability to generate insights from documents. These insights freqeuently come in two forms.\n",
    "\n",
    "1. **Summarization of the underlying document**. This tends to focus on summarizing the insights of the document itself.\n",
    "\n",
    "2. **Key Insights based on other pertinent information**. This is more challenging, and involves taking the text in the context of a corpus of other knowlege, such a propriatary datasets (e.g. in Amazon Kendra, databases etc.) or a more general knowledge of the field.\n",
    "\n",
    "\n",
    "This notebook shows how you can use Jamba 1.5 models to produce a summary of content, but also to combine it with other knowledge. In this notebook, we will also use Jamba Large to generate queries, which are passed to an internet search. \n",
    "\n",
    "An outline of the approach for this is shown below:\n",
    "\n",
    "![below](jamba.png)\n",
    "\n",
    "In many production use cases, multiple searches of data sources (e.g. internet search, private corpuses) would be done; but in this notebook, we will only do quieries of the public internet.\n",
    "\n",
    "This notebook shows how to use AI21 Labs models to generate a report, which includes both a summary of the original text, as well as key insights from other data.\n",
    "\n",
    "\n"
   ]
  },
  {
   "cell_type": "markdown",
   "id": "1f0341a6-ddcf-4e4a-94bf-76d0dced6f92",
   "metadata": {},
   "source": [
    "## Install Libraries as needed."
   ]
  },
  {
   "cell_type": "code",
   "execution_count": 1,
   "id": "2e87e691-545d-48f0-9e66-44aed2ddcfd7",
   "metadata": {
    "scrolled": true,
    "tags": []
   },
   "outputs": [
    {
     "name": "stdout",
     "output_type": "stream",
     "text": [
      "Requirement already satisfied: duckduckgo_search in /home/ec2-user/anaconda3/envs/python3/lib/python3.10/site-packages (6.2.13)\n",
      "Requirement already satisfied: click>=8.1.7 in /home/ec2-user/anaconda3/envs/python3/lib/python3.10/site-packages (from duckduckgo_search) (8.1.7)\n",
      "Requirement already satisfied: primp>=0.6.3 in /home/ec2-user/anaconda3/envs/python3/lib/python3.10/site-packages (from duckduckgo_search) (0.6.3)\n",
      "Collecting duckduckgo_search\n",
      "  Using cached duckduckgo_search-6.2.13-py3-none-any.whl.metadata (25 kB)\n",
      "Collecting click>=8.1.7 (from duckduckgo_search)\n",
      "  Using cached click-8.1.7-py3-none-any.whl.metadata (3.0 kB)\n",
      "Collecting primp>=0.6.3 (from duckduckgo_search)\n",
      "  Using cached primp-0.6.3-cp38-abi3-manylinux_2_17_x86_64.manylinux2014_x86_64.whl.metadata (10 kB)\n",
      "Using cached duckduckgo_search-6.2.13-py3-none-any.whl (27 kB)\n",
      "Using cached click-8.1.7-py3-none-any.whl (97 kB)\n",
      "Using cached primp-0.6.3-cp38-abi3-manylinux_2_17_x86_64.manylinux2014_x86_64.whl (2.8 MB)\n",
      "Installing collected packages: primp, click, duckduckgo_search\n",
      "  Attempting uninstall: primp\n",
      "    Found existing installation: primp 0.6.3\n",
      "    Uninstalling primp-0.6.3:\n",
      "      Successfully uninstalled primp-0.6.3\n",
      "  Attempting uninstall: click\n",
      "    Found existing installation: click 8.1.7\n",
      "    Uninstalling click-8.1.7:\n",
      "      Successfully uninstalled click-8.1.7\n",
      "  Attempting uninstall: duckduckgo_search\n",
      "    Found existing installation: duckduckgo_search 6.2.13\n",
      "    Uninstalling duckduckgo_search-6.2.13:\n",
      "      Successfully uninstalled duckduckgo_search-6.2.13\n",
      "Successfully installed click-8.1.7 duckduckgo_search-6.2.13 primp-0.6.3\n",
      "Requirement already satisfied: python-docx in /home/ec2-user/anaconda3/envs/python3/lib/python3.10/site-packages (1.1.2)\n",
      "Requirement already satisfied: lxml>=3.1.0 in /home/ec2-user/anaconda3/envs/python3/lib/python3.10/site-packages (from python-docx) (5.3.0)\n",
      "Requirement already satisfied: typing-extensions>=4.9.0 in /home/ec2-user/anaconda3/envs/python3/lib/python3.10/site-packages (from python-docx) (4.12.2)\n",
      "Requirement already satisfied: docx2pdf in /home/ec2-user/anaconda3/envs/python3/lib/python3.10/site-packages (0.1.8)\n",
      "Requirement already satisfied: tqdm>=4.41.0 in /home/ec2-user/anaconda3/envs/python3/lib/python3.10/site-packages (from docx2pdf) (4.66.5)\n"
     ]
    }
   ],
   "source": [
    "!pip install --upgrade duckduckgo_search #reinstall duck duck go if there are any issues\n",
    "!pip install --upgrade --force-reinstall duckduckgo_search\n",
    "!pip install python-docx\n",
    "!pip install docx2pdf\n",
    "!pip install boto3 --upgrade --quiet\n"
   ]
  },
  {
   "cell_type": "code",
   "execution_count": 2,
   "id": "43056eb5-c2c0-493a-a2c7-4bbc8919791b",
   "metadata": {
    "tags": []
   },
   "outputs": [],
   "source": [
    "#model ids\n",
    "\n",
    "jamba_large=\"ai21.jamba-1-5-mini-v1:0\"\n",
    "jamba_mini=\"ai21.jamba-1-5-large-v1:0\"\n",
    "DEFAULT_MODEL= jamba_large"
   ]
  },
  {
   "cell_type": "markdown",
   "id": "a02cf0c7-c209-400f-a446-e2198e889a24",
   "metadata": {},
   "source": [
    "### Generate Summary of Article\n",
    "\n",
    "The following section involve processing a specific article titled \"KEY RISKS SHAPING THE BANKING INDUSTRY\" using AI models. The goal is to generate a concise summary that captures the essence of the article, focusing on aspects relevant to the banking sector and AI's impact on it. This uses AI21 summarization model \n",
    "\n",
    "Note that when invoking AI21 models, we will be putting the API key in plain text in the notebook. While acceptable for testing your notebooks, in a production settings, API keys should be stored as secure secrets, such as with [AWS Secrets Manager](https://aws.amazon.com/secrets-manager/)."
   ]
  },
  {
   "cell_type": "code",
   "execution_count": 3,
   "id": "63caa0c8-3f1f-4419-a886-fcc22217cc46",
   "metadata": {
    "tags": []
   },
   "outputs": [],
   "source": [
    "\n",
    "import json\n",
    "import os\n",
    "import boto3\n",
    "import time\n",
    "import requests\n",
    "import json\n",
    "import os\n",
    "\n",
    "\n",
    "def converse_jamba_large(prompt,**kwargs):\n",
    "    bedrock = boto3.client(service_name=\"bedrock-runtime\", region_name=\"us-east-1\")\n",
    "    inference_config = {\"temperature\": 0.7, \"maxTokens\": 4000, \"topP\": 0.8}\n",
    "    inference_config.update(kwargs)\n",
    "    system_prompts = [\n",
    "        {\n",
    "            \"text\": system_prompt_large\n",
    "        }\n",
    "    ]\n",
    "    messages = [{\"role\": \"user\", \"content\": [{\"text\": prompt}]}]\n",
    "    modelId = DEFAULT_MODEL\n",
    "    response = bedrock.converse(\n",
    "        messages=messages,\n",
    "        modelId=modelId,\n",
    "        system=system_prompts,\n",
    "        inferenceConfig=inference_config\n",
    "    )\n",
    "    generated_text = response['output']['message']['content'][0]['text']\n",
    "    return generated_text, response\n",
    "\n",
    "def summarize_jamba_mini(prompt,**kwargs):\n",
    "    bedrock = boto3.client(service_name=\"bedrock-runtime\", region_name=\"us-east-1\")\n",
    "    inference_config = {\"temperature\": 0.7, \"maxTokens\": 4000, \"topP\": 0.8}\n",
    "    inference_config.update(kwargs)\n",
    "    \n",
    "    system_prompts = [\n",
    "        {\n",
    "            \"text\": system_prompt\n",
    "        }\n",
    "    ]\n",
    "    messages = [{\"role\": \"user\", \"content\": [{\"text\": prompt}]}]\n",
    "    modelId = DEFAULT_MODEL\n",
    "    response = bedrock.converse(\n",
    "        messages=messages,\n",
    "        modelId=modelId,\n",
    "        system=system_prompts,\n",
    "        inferenceConfig=inference_config\n",
    "    )\n",
    "    generated_text = response['output']['message']['content'][0]['text']\n",
    "    return generated_text, response\n",
    "\n",
    "def call_bedrock_jamba_large(prompt, **kwargs):\n",
    "    attempts = 0\n",
    "    while attempts < 5:\n",
    "        try:\n",
    "            return converse_jamba_large(prompt, **kwargs)\n",
    "        except Exception as e:\n",
    "            print(e)\n",
    "            attempts += 1\n",
    "            print(f\"Attempt {attempts}: Failed to call API, retrying in 3 seconds...\")\n",
    "            time.sleep(3)\n",
    "    raise Exception(\"Failed to complete the API call after 5 attempts\")\n",
    "    "
   ]
  },
  {
   "cell_type": "markdown",
   "id": "f70c70b2-1d48-4c3a-8872-1dcf723eacd5",
   "metadata": {},
   "source": [
    "### Input data\n",
    "First we will get an input article about issues facing the banking industry. The text of the article is from [here](https://internationalbanker.com/banking/key-risks-shaping-the-banking-industry/)."
   ]
  },
  {
   "cell_type": "code",
   "execution_count": 4,
   "id": "e7857b0e-2f93-48f1-9165-3b707ebef359",
   "metadata": {
    "tags": []
   },
   "outputs": [],
   "source": [
    "#\n",
    "article='''\n",
    "KEY RISKS SHAPING THE BANKING INDUSTRY\n",
    "November 16, 2023\n",
    "\n",
    "By Lee Doyle, Global Head Banking Industry, Ashurst LLP\n",
    "\n",
    " \n",
    "\n",
    "An accelerated period of change has long been on the horizon, and institutions are now facing an inflection point in the banking industry’s evolution. The digital revolution in retail banking has largely happened, and the interest is now in how consumers engage with this technology. This is not the case in corporate banking—digitisation is continuing at pace and will continue to do so over the next few years. Several megatrends are driving these developments, which will converge across retail and corporate banking in the coming years.\n",
    "\n",
    "Retail-banking developments are clear for everyone to see on a day-to-day basis. The scale of big banking changes, however, is likely to only become evident within the next 12 to 18 months. As advisors to the world’s largest financial institutions, we at Ashurst are fortunate to work alongside them in dealing with these issues. We’re lucky to be behind the curtain. Goldman Sachs’ ground-breaking Digital Asset Platform (GS DAP) exemplifies what’s coming. In time, these fundamental changes will mean that corporates can access capital markets without layers of processes and bureaucracy—just as consumers now connect with retail markets.\n",
    "\n",
    "Investor considerations are being matched by other factors, including the increasing focus on ESG (environmental, social and governance) compliance, the “fight” for talent and reshaping of the workforce, and the emergence of generative AI (artificial intelligence) and the fundamental changes it brings to our preconceptions and certainties of processes, controls and work-allocation norms.\n",
    "\n",
    "These step changes in developments and potential uses of AI alongside human thought can’t be understated. One topic we certainly didn’t think would be driving so much change 18 months ago was the sector’s AI adoption. The genie is well and truly out of the bottle, though, and regulators and legislators will be playing catch-up for some time. The European Union (EU) is trying to legislate but is struggling to define the scope and breadth of AI rules, while the United Kingdom is attempting a sector-by-sector approach. The United States is currently seeking to define its approach to regulation. AI will perhaps move us towards more rather than less legislation.\n",
    "\n",
    "Despite the multiple challenges, those banks that can successfully implement AI technology will benefit from large competitive advantages in terms of time and cost savings. My Risk Advisory colleagues always remind me that navigating the risk profiles that come with this is a daunting challenge. The black box of AI must be opened, and the recent Senior Managers and Certification Regime (SM&CR) in the UK has further complicated this.\n",
    "\n",
    "With liability now landing on the shoulders of those at the top, senior executives must be able to not only understand how AI is being used in their businesses but also clearly explain its implications—a major challenge in a fast-moving area in which bank leaders are often far removed from the cutting edge of technology development.\n",
    "\n",
    "Although AI is where the most far-reaching changes will come, ESG remains the number one boardroom megatrend for banks—now with the added complexity for global financial institutions of mixed messages from some political leaders and, in the US, a full-blown backlash against many ESG policies. The differences in approach in different countries and regions are the biggest challenges today and in the future. From London to Texas to Hong Kong, banks must not only comply with local legislations but also build effective strategies to cater to the firms’ global ESG objectives.\n",
    "\n",
    "Sometimes, in the rhetoric, the views of investors are overlooked, and they are the banks’ ultimate stakeholders when you consider that their main purpose is to generate returns. Investors are not a homogenous group. However, understanding investors at both corporate and retail levels is a puzzle to solve. Some will take a longer-term view when ESG concerns are a priority, while others will target short-term financial gains. Balancing these perspectives must be a key focus for leaders.\n",
    "\n",
    "The risk of failing to accommodate investors’ appetites for sound ESG credentials is substantial. The financial-services sector has been hit by a stream of greenwashing allegations over the past two years, with banks accounting for 70 percent of greenwashing, according to RepRisk, a firm specialising in ESG data. Avoiding these accusations and ensuring that products advertised as environmentally friendly meet this standard imposes a major new burden on banks, as complex supply chains must be carefully scrutinised—for example, ensuring that the investments advertised are genuinely sustainable.\n",
    "\n",
    "Closely connected to ESG is another of the megatrends to which the banking industry has had to adapt rapidly: the net-zero transition. From finding sufficient investments to fund renewable energy worldwide and preparing for the impacts of climate change, such as rising sea levels and more frequent extreme weather events, the banking industry will need to adapt radically to the “E” (environment) in ESG. Industry leaders must make complex decisions, balancing numerous commercial and regulatory concerns, if they are to play the part that governments, and increasingly shareholders, demand in financing the net-zero transition.\n",
    "\n",
    "Among the risks are complex supply chains, making vetting a product’s environmental credentials challenging and producing potential competition issues if firms coordinate their approaches to green products. The former will burden banks’ compliance professionals, especially as national and transnational jurisdictions become increasingly strict about how environment-friendly investments are defined. For example, would using steel produced with petroleum- or coal-based needle coke to make an electric vehicle count against its green credentials? Would a bank offering this as part of a carbon-neutral investment be required to include a carbon-negative investment to balance this out? These questions still have no clear answers.\n",
    "\n",
    "Competition, too, presents a formidable challenge for banks. Competition regulations and enforcements have arguably not kept up with the need for companies to collaborate to ease the transition to net zero. Other industries have fallen foul of competition authorities over climate-related collaboration, as seen in a 2021 European Commission (EC) decision, which fined several auto manufacturers $875 million over their alleged collusion in developing emissions-cleaning technology for diesel cars. This willingness to probe competition issues, combined with the array of subsidies that Western national governments offer environment-focused companies, makes green financing an area in which banks must rapidly adjust to changing government regulations and competition enforcement.\n",
    "\n",
    "Never have bank senior executives needed such an array of skills and abilities to deal with these fundamental issues, and never have they had to operate in a market so influenced by governments and regulators. The Global Financial Crisis (GFC) brought in necessary regulatory oversight, and subsequent conduct and liquidity issues in some areas have led to further regulatory scrutiny. Already one of the most regulated sectors globally, banking is unlikely to see another wave of regulation. Rather, one should observe to where the regulatory focus shifts. Shadow banking and private credit have grown enormously in recent years, and there are signs in both Europe and the US that, along with new technology, this is where the eyes of regulators and legislators are beginning to turn. It is unlikely this will occur without a fight.\n",
    "'''"
   ]
  },
  {
   "cell_type": "code",
   "execution_count": 5,
   "id": "1855205b-e3f7-411d-a66a-f830c12ce341",
   "metadata": {
    "tags": []
   },
   "outputs": [],
   "source": [
    "system_prompt=\"\"\"\n",
    "summarize the provided information\n",
    "\"\"\"\n",
    "\n",
    "response = summarize_jamba_mini(\n",
    "  prompt=article,\n",
    "  temperature=0.4\n",
    ")"
   ]
  },
  {
   "cell_type": "code",
   "execution_count": 6,
   "id": "b3db1181-4592-4930-a285-5e9cb8d45831",
   "metadata": {
    "tags": []
   },
   "outputs": [],
   "source": [
    "summary=response[1]['output']['message']['content'][0]['text']"
   ]
  },
  {
   "cell_type": "code",
   "execution_count": 7,
   "id": "7f0d6849-8480-43d0-8b85-331f6a537ae1",
   "metadata": {
    "tags": []
   },
   "outputs": [
    {
     "name": "stdout",
     "output_type": "stream",
     "text": [
      " The banking industry is undergoing significant changes driven by several megatrends, including the digital revolution in retail banking, ESG compliance, the fight for talent, and the emergence of generative AI. Retail banking has largely been digitized, while corporate banking continues to evolve rapidly. The focus is now on how consumers engage with this technology. The EU, UK, and US are all grappling with regulating AI, with the EU struggling to define the scope and breadth of AI rules, the UK taking a sector-by-sector approach, and the US seeking to define its approach. Despite the challenges, banks that successfully implement AI technology will benefit from large competitive advantages in terms of time and cost savings. ESG remains the number one boardroom megatrend for banks, with the added complexity of mixed messages from some political leaders and a backlash against ESG policies in the US. The financial-services sector has been hit by a stream of greenwashing allegations, with banks accounting for 70 percent of greenwashing, according to RepRisk. The net-zero transition is another megatrend that the banking industry must adapt to rapidly, with industry leaders needing to make complex decisions to balance commercial and regulatory concerns. Competition regulations and enforcements have not kept up with the need for companies to collaborate to ease the transition to net zero, presenting a formidable challenge for banks.\n"
     ]
    }
   ],
   "source": [
    "print(summary)"
   ]
  },
  {
   "cell_type": "code",
   "execution_count": 8,
   "id": "29585cf3",
   "metadata": {
    "tags": []
   },
   "outputs": [
    {
     "data": {
      "text/plain": [
       "'\\nresponse = client.summarize.create(\\n  source=\"https://internationalbanker.com/banking/key-risks-shaping-the-banking-industry\",\\n  source_type=\"URL\" \\n)\\nsummary=response.summary\\n'"
      ]
     },
     "execution_count": 8,
     "metadata": {},
     "output_type": "execute_result"
    }
   ],
   "source": [
    "'''\n",
    "response = client.summarize.create(\n",
    "  source=\"https://internationalbanker.com/banking/key-risks-shaping-the-banking-industry\",\n",
    "  source_type=\"URL\" \n",
    ")\n",
    "summary=response.summary\n",
    "'''"
   ]
  },
  {
   "cell_type": "markdown",
   "id": "93484af4-d187-4aa9-87cc-8d31cd95b893",
   "metadata": {},
   "source": [
    "## Create Search Queries\n",
    "Building on the article summary, we now utilize Jamba 1.5 Large to generate specific search queries. These queries are tailored to explore the article's implications for United States Federal Reserve Bank. This step is crucial for gathering focused insights and understanding the potential impact on United States Federal Reserve Bank's operations and strategies.\n",
    "\n",
    "Note that this step allows for two essential components: 1. Finding new relevant topics and content outside the article and 2. Make insights specific to United States Federal Reserve, rather than generic about the Banking industry."
   ]
  },
  {
   "cell_type": "code",
   "execution_count": 9,
   "id": "cfd69286-c166-4af2-89c0-ef72c4d0629f",
   "metadata": {
    "tags": []
   },
   "outputs": [],
   "source": [
    "system_prompt_large= \"\"\"\n",
    "You are to take on the persona of a business analyst who works for United States Federal Reserve Bank, who can interact with a search engine. \n",
    "Given the following article summary, come up with 5 different search terms/queries about how this may impact United States Federal Reserve bank. Print each search term/query on a newline. \n",
    "Each query is to be surrounded by {{}}\n",
    "Based on the summary below, generate search queries that are relevant for specifically for United States Federal Reserve Bank. \n",
    "You must ensure your queries are United States Federal Reserve specific, but also relate to the summary presented below.\n",
    "\n",
    "Some examples of relevant United States Federal Reserve queries are:\n",
    "\"How will the digital revolution in retail banking impact United States Federal Reserve's policies and procedures?\"\n",
    "\"What is the United States Federal Reserve's stance on the integration of AI in corporate capital markets?\"\n",
    "\"How is the United States Federal Reserve addressing the challenge of explaining AI usage in banking businesses?\"\n",
    "\"\"\"\n",
    "prompt_2=f\"\"\"\n",
    "\n",
    "Use the following summary to generate the above queries:\n",
    "<summary>\n",
    "{summary}\n",
    "</summary>\n",
    "\n",
    "Remember, you want to tailor these queries to be relevant about United States Federal Reserve.\n",
    "\"\"\"\n",
    "#prompt_2=prompt_template.format(summary=summary)\n",
    "generated_text=call_bedrock_jamba_large(prompt_2)"
   ]
  },
  {
   "cell_type": "code",
   "execution_count": 10,
   "id": "153ba3d7-daaf-4de6-adfc-2cfbacd79bdb",
   "metadata": {
    "tags": []
   },
   "outputs": [
    {
     "name": "stdout",
     "output_type": "stream",
     "text": [
      "(\" {{How will the United States Federal Reserve's stance on AI regulation impact the banking industry?}}\\n{{What measures is the United States Federal Reserve taking to address greenwashing in the financial sector?}}\\n{{How is the United States Federal Reserve addressing the challenge of ESG compliance for banks?}}\\n{{What strategies is the United States Federal Reserve implementing to compete for talent in the banking industry?}}\\n{{How is the United States Federal Reserve preparing for the net-zero transition in the banking industry?}}\", {'ResponseMetadata': {'RequestId': '5af92bd1-9528-46f5-af77-11475f043f92', 'HTTPStatusCode': 200, 'HTTPHeaders': {'date': 'Tue, 24 Sep 2024 16:55:14 GMT', 'content-type': 'application/json', 'content-length': '725', 'connection': 'keep-alive', 'x-amzn-requestid': '5af92bd1-9528-46f5-af77-11475f043f92'}, 'RetryAttempts': 0}, 'output': {'message': {'role': 'assistant', 'content': [{'text': \" {{How will the United States Federal Reserve's stance on AI regulation impact the banking industry?}}\\n{{What measures is the United States Federal Reserve taking to address greenwashing in the financial sector?}}\\n{{How is the United States Federal Reserve addressing the challenge of ESG compliance for banks?}}\\n{{What strategies is the United States Federal Reserve implementing to compete for talent in the banking industry?}}\\n{{How is the United States Federal Reserve preparing for the net-zero transition in the banking industry?}}\"}]}}, 'stopReason': 'end_turn', 'usage': {'inputTokens': 527, 'outputTokens': 104, 'totalTokens': 631}, 'metrics': {'latencyMs': 901}})\n"
     ]
    }
   ],
   "source": [
    "print(generated_text)"
   ]
  },
  {
   "cell_type": "code",
   "execution_count": 11,
   "id": "78021ede-a06e-4613-969e-9789cfaf295c",
   "metadata": {
    "tags": []
   },
   "outputs": [
    {
     "name": "stdout",
     "output_type": "stream",
     "text": [
      "[\" How will the United States Federal Reserve's stance on AI regulation impact the banking industry?\", 'What measures is the United States Federal Reserve taking to address greenwashing in the financial sector?', 'How is the United States Federal Reserve addressing the challenge of ESG compliance for banks?', 'What strategies is the United States Federal Reserve implementing to compete for talent in the banking industry?', 'How is the United States Federal Reserve preparing for the net-zero transition in the banking industry?']\n"
     ]
    }
   ],
   "source": [
    "#Show the created quries.\n",
    "generated_text\n",
    "generated_text_l=generated_text[0].split(\"\\n\")\n",
    "search_queries=[i.replace('{', '').replace('}', '').replace('\"',\"\") for i in generated_text_l]\n",
    "print(search_queries)"
   ]
  },
  {
   "cell_type": "markdown",
   "id": "a4b608b0-2560-4e76-986b-06968fbebb0d",
   "metadata": {},
   "source": [
    "### Perform Internet Search\n",
    "\n",
    "With our AI-generated queries, we now delve into internet research using DuckDuckGo. This step aims to enrich our analysis with external data, offering a broader perspective on how the summarized content relates to United States Federal Reserve Bank's business environment and strategic planning.\n",
    "\n",
    "Note that in this small example, we will only be using the snippets from the DuckDuckGo search; and not the full text of the articles.\n",
    "\n",
    "**Note**: If the Duckduckgo API call fails due to an HTTP error, try reloading the notebook and reinstalling the duckduckgo library.\n",
    "\n"
   ]
  },
  {
   "cell_type": "code",
   "execution_count": 12,
   "id": "dd004b34-b946-46ab-bd9f-170f1fcd4e4d",
   "metadata": {
    "scrolled": true,
    "tags": []
   },
   "outputs": [],
   "source": [
    "from duckduckgo_search import DDGS\n",
    "import time\n",
    "def search_duckduckgo(query):\n",
    "    ddgs=DDGS()\n",
    "    results = ddgs.text(query, max_results=5)\n",
    "    return results\n",
    "\n",
    "# Example usage\n",
    "all_results_l=[]\n",
    "for i in search_queries:\n",
    "    query = i\n",
    "    for i in range(0,3):\n",
    "        try:\n",
    "            search_results = search_duckduckgo(query)\n",
    "            for result in search_results:\n",
    "                all_results_l.append(f'''Result_Snippet\\n{result['body']}\\n''')\n",
    "            break\n",
    "        except Exception as e:\n",
    "            print(\"Error searching. Retrying\")\n",
    "            time.sleep(3)\n",
    "                \n"
   ]
  },
  {
   "cell_type": "code",
   "execution_count": 13,
   "id": "0dcc94ee-5919-4c28-a609-7f655f629b19",
   "metadata": {
    "tags": []
   },
   "outputs": [],
   "source": [
    "all_search_results_string=\"\".join(all_results_l)"
   ]
  },
  {
   "cell_type": "markdown",
   "id": "1c69d443-d6f4-4185-b2a8-d51589f0c072",
   "metadata": {},
   "source": [
    "### Synthesize Insight Report\n",
    "Now we will take both the summary of the orginal article, as well as the key insights from search, and synthesize them."
   ]
  },
  {
   "cell_type": "code",
   "execution_count": 15,
   "id": "21a7e60a-147e-4b4a-aa5e-d3ef4e33dfbb",
   "metadata": {
    "tags": []
   },
   "outputs": [],
   "source": [
    "system_prompt_large= \"\"\"\n",
    "You are to take on the persona of a business analyst who works for United States Federal Reserve Bank, who can interact with a search engine. Given the following Summary of an article, as well\n",
    "as information from search results, you are to produce Key Risks section, which should be about 2 paragraphs, that to highlight any potential pitfalls or risks specifically to United States Federal Reserve Bank.\n",
    "\n",
    "Please keep in mind that not all of the result snippets will be relevant.\n",
    "\n",
    "\"\"\"\n",
    "prompt_3=f\"\"\"\n",
    "Article Summary:\n",
    "{summary}\n",
    "\n",
    "Search Engine Snippets:\n",
    "{all_search_results_string}\n",
    "\"\"\"\n",
    "#print(response)\n",
    "generated_insight_text = call_bedrock_jamba_large(prompt_3)"
   ]
  },
  {
   "cell_type": "code",
   "execution_count": 21,
   "id": "39ce7620-bb85-4d7a-8005-7a2634029e3b",
   "metadata": {
    "tags": []
   },
   "outputs": [
    {
     "name": "stdout",
     "output_type": "stream",
     "text": [
      " ### Key Risks to the United States Federal Reserve Bank\n",
      "\n",
      "The United States Federal Reserve Bank (Fed) faces several critical risks as it navigates the evolving landscape of the banking industry. One significant risk is the integration and regulation of artificial intelligence (AI) within financial services. The Fed, along with other federal financial regulatory agencies, is tasked with understanding and managing the risks associated with AI. The challenge lies in developing comprehensive regulations that ensure AI is deployed safely and fairly across the economy, as highlighted by Biden's executive order. The Fed's efforts to support responsible AI use and equitable outcomes must balance innovation with stringent oversight to prevent potential misuse or unintended consequences of AI technologies.\n",
      "\n",
      "Another pressing risk is the banking industry's adaptation to climate change and the associated environmental, social, and governance (ESG) standards. The Fed has recognized climate change as an emerging threat to financial stability, necessitating complex decisions to balance commercial interests with regulatory requirements. The industry's push towards net-zero emissions, coupled with the need to manage physical and transition risks, presents formidable challenges. The Fed must address greenwashing allegations and ensure that financial institutions accurately report their ESG metrics. Additionally, the rapid evolution of ESG policies, often met with political backlash, requires the Fed to remain agile and transparent in its regulatory approach to maintain trust and stability in the financial system.\n"
     ]
    }
   ],
   "source": [
    "print (generated_insight_text[0])"
   ]
  },
  {
   "cell_type": "code",
   "execution_count": 27,
   "id": "70796c0c-a9ae-454c-8496-ff2c44b6e8db",
   "metadata": {
    "tags": []
   },
   "outputs": [],
   "source": [
    "generated_insight_text_final=generated_insight_text[1]['output']['message']['content'][0]['text']"
   ]
  },
  {
   "cell_type": "markdown",
   "id": "01b5f7fd-def8-4404-8d25-cc5e851f170f",
   "metadata": {},
   "source": [
    "### Export Insights\n",
    "We will export insights as a easy-to-read .docx file, as well as a Markdown file."
   ]
  },
  {
   "cell_type": "code",
   "execution_count": 29,
   "id": "da953efe-266d-4bda-8b77-bbff9d850364",
   "metadata": {
    "tags": []
   },
   "outputs": [
    {
     "name": "stdout",
     "output_type": "stream",
     "text": [
      "File 'Banking_Report.md' has been created with the provided lines.\n"
     ]
    }
   ],
   "source": [
    "from docx import Document\n",
    "from docx.enum.section import WD_SECTION\n",
    "from docx.oxml import OxmlElement\n",
    "\n",
    "from docx import Document\n",
    "from docx.shared import Pt\n",
    "\n",
    "def write_to_docx(filename, lines):\n",
    "    # Create a new Document\n",
    "    doc = Document()\n",
    "\n",
    "    # Add 'Article Summary' as a styled paragraph\n",
    "    p1 = doc.add_paragraph()\n",
    "    run1 = p1.add_run(\"Banking Risks Analysis\")\n",
    "    run1.font.size = Pt(18)\n",
    "    p1 = doc.add_paragraph()\n",
    "    run1 = p1.add_run(\"Article Summary\")\n",
    "    run1.font.size = Pt(14)\n",
    "    # Add the first line\n",
    "    doc.add_paragraph(lines[0])\n",
    "\n",
    "    # Add 'Key Insight' as a styled paragraph\n",
    "    p2 = doc.add_paragraph()\n",
    "    run2 = p2.add_run(\"Key Insight\")\n",
    "    run2.font.size = Pt(14)\n",
    "    # Add the second line\n",
    "    doc.add_paragraph(lines[1])\n",
    "\n",
    "    # Save the document\n",
    "    doc.save(filename)\n",
    "\n",
    "\n",
    "# Example usage\n",
    "file_name = 'Banking_Report.docx'\n",
    "lines_to_write = [summary,generated_insight_text_final]\n",
    "write_to_docx(file_name, lines_to_write)\n",
    "\n",
    "def write_to_markdown(filename, lines):\n",
    "    with open(filename, 'w') as md_file:\n",
    "        # Add 'Banking Risks Analysis' as a heading\n",
    "        md_file.write(\"# Banking Risks Analysis\\n\\n\")\n",
    "\n",
    "        # Add 'Article Summary' as a subheading\n",
    "        md_file.write(\"## Article Summary\\n\")\n",
    "        # Add the first line\n",
    "        md_file.write(lines[0] + \"\\n\\n\")\n",
    "\n",
    "        # Add 'Key Insight' as a subheading\n",
    "        md_file.write(\"## Key Insight\\n\")\n",
    "        # Add the second line\n",
    "        md_file.write(lines[1] + \"\\n\")\n",
    "\n",
    "# Example usage\n",
    "file_name = 'Banking_Report.md'\n",
    "write_to_markdown(file_name, lines_to_write)\n",
    "\n",
    "print(f\"File '{file_name}' has been created with the provided lines.\")"
   ]
  },
  {
   "cell_type": "markdown",
   "id": "66148c2c-e08a-488f-bee9-e5823888af42",
   "metadata": {},
   "source": [
    "The output of this may differ from run to run. \n",
    "Note that the `Summary` is a a summary of the article itself, with the `Key Insights` being much more specific to why the content is relevant to the Federal Reserve of the United States.\n"
   ]
  }
 ],
 "metadata": {
  "kernelspec": {
   "display_name": "conda_python3",
   "language": "python",
   "name": "conda_python3"
  },
  "language_info": {
   "codemirror_mode": {
    "name": "ipython",
    "version": 3
   },
   "file_extension": ".py",
   "mimetype": "text/x-python",
   "name": "python",
   "nbconvert_exporter": "python",
   "pygments_lexer": "ipython3",
   "version": "3.10.14"
  }
 },
 "nbformat": 4,
 "nbformat_minor": 5
}
