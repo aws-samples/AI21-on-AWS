{
 "cells": [
  {
   "cell_type": "markdown",
   "id": "26397bea-29e7-4185-b03f-0ae80685de9b",
   "metadata": {},
   "source": [
    "# Financial Document Analysis with Jamba 1.5 Large/Mini on Bedrock \n",
    "Jamba 1.5 models can be used to analyze financial documents. In this notebook, we will first load the Amazon's 10K filing (downloaded from [here](https://d18rn0p25nwr6d.cloudfront.net) and can then ask questions about it. This report has about 40,000 words."
   ]
  },
  {
   "cell_type": "markdown",
   "id": "fbb4a177-2a6f-490f-a21a-a8a2d3672f93",
   "metadata": {},
   "source": [
    "### Install required libraries"
   ]
  },
  {
   "cell_type": "code",
   "execution_count": null,
   "id": "98c7a1ad-d81a-422d-8b35-9fa0f57b1a0c",
   "metadata": {},
   "outputs": [],
   "source": [
    "!pip install --upgrade boto3 --quiet"
   ]
  },
  {
   "cell_type": "code",
   "execution_count": null,
   "id": "8518dade-b66a-4787-ab66-72cf5ba4fc1c",
   "metadata": {},
   "outputs": [],
   "source": [
    "#model ids\n",
    "\n",
    "jamba_large=\"ai21.jamba-1-5-mini-v1:0\"\n",
    "jamba_mini=\"ai21.jamba-1-5-large-v1:0\"\n",
    "DEFAULT_MODEL= jamba_large"
   ]
  },
  {
   "cell_type": "code",
   "execution_count": 6,
   "id": "2469f0ac-becf-4c94-84c8-d68c9cb15f3c",
   "metadata": {},
   "outputs": [],
   "source": [
    "# Required imports\n",
    "import os\n",
    "import json\n",
    "import requests\n",
    "import boto3\n",
    "import time\n",
    "\n",
    "# Function to read the contents of the files\n",
    "def read_file(file_path):\n",
    "    with open(file_path, 'r') as file:\n",
    "        return file.read()\n",
    "\n",
    "# Paths to the text files\n",
    "document = '10k.txt'\n",
    "\n",
    "# Function to read the contents of the files\n",
    "def read_file(file_path):\n",
    "    with open(file_path, 'r') as file:\n",
    "        return file.read()\n",
    "\n",
    "def converse_jamba(prompt,**kwargs):\n",
    "    bedrock = boto3.client(service_name=\"bedrock-runtime\", region_name=\"us-east-1\")\n",
    "    inference_config = {\"temperature\": 0.7, \"maxTokens\": 4000, \"topP\": 0.8}\n",
    "    inference_config.update(kwargs)\n",
    "    \n",
    "    messages = [{\"role\": \"user\", \"content\": [{\"text\": prompt}]}]\n",
    "    modelId = DEFAULT_MODEL\n",
    "    response = bedrock.converse(\n",
    "        messages=messages,\n",
    "        modelId=modelId,\n",
    "        inferenceConfig=inference_config\n",
    "    )\n",
    "    generated_text = response['output']['message']['content'][0]['text']\n",
    "    return generated_text, response\n",
    "\n",
    "def call_bedrock_jamba(prompt, **kwargs):\n",
    "    attempts = 0\n",
    "    while attempts < 5:\n",
    "        try:\n",
    "            return converse_jamba(prompt, **kwargs)\n",
    "        except Exception as e:\n",
    "            print(e)\n",
    "            attempts += 1\n",
    "            print(f\"Attempt {attempts}: Failed to call API, retrying in 3 seconds...\")\n",
    "            time.sleep(3)\n",
    "    raise Exception(\"Failed to complete the API call after 5 attempts\")"
   ]
  },
  {
   "cell_type": "markdown",
   "id": "4e3bfe13-2244-486e-add5-925b837e6d83",
   "metadata": {},
   "source": [
    "### Ask a Question\n",
    "Next we will ask a question from the document, passing the entire content of the document to the prompt. "
   ]
  },
  {
   "cell_type": "code",
   "execution_count": 7,
   "id": "23d22a19-6f7b-476e-b01c-3cdf219c30d7",
   "metadata": {},
   "outputs": [
    {
     "name": "stdout",
     "output_type": "stream",
     "text": [
      "Answer:\n",
      "(\" In 2019, Amazon's revenue generating activities included retail sales of consumer products, subscriptions, and third-party seller services. These activities were primarily conducted through both online and physical stores.\", {'ResponseMetadata': {'RequestId': 'c27923fa-c7c1-4577-89b5-e1691606b333', 'HTTPStatusCode': 200, 'HTTPHeaders': {'date': 'Sat, 21 Sep 2024 18:15:09 GMT', 'content-type': 'application/json', 'content-length': '411', 'connection': 'keep-alive', 'x-amzn-requestid': 'c27923fa-c7c1-4577-89b5-e1691606b333'}, 'RetryAttempts': 0}, 'output': {'message': {'role': 'assistant', 'content': [{'text': \" In 2019, Amazon's revenue generating activities included retail sales of consumer products, subscriptions, and third-party seller services. These activities were primarily conducted through both online and physical stores.\"}]}}, 'stopReason': 'end_turn', 'usage': {'inputTokens': 65374, 'outputTokens': 45, 'totalTokens': 65419}, 'metrics': {'latencyMs': 2741}})\n"
     ]
    }
   ],
   "source": [
    "\n",
    "question=\"What was Amazon's revenue generating activity in 2019?\"\n",
    "document_content=read_file(document)\n",
    "q_a_prompt = f\"\"\"\n",
    "You are an excellent research assistant. Based the following \"Document Content\" do your best to answer the question posed.\n",
    "Keep your answer strictly grounded in the document, and if the answer cannot be found in the document, just say \"I do not know\"\n",
    "\n",
    "Document Content:\n",
    "\n",
    "{document_content}\n",
    "\n",
    "Question: \n",
    "{question}\n",
    "\n",
    "Answer to Question:\n",
    "\"\"\"\n",
    "\n",
    "#print(comparison_prompt)\n",
    "# Call the API\n",
    "\n",
    "#print(q_a_prompt)\n",
    "\n",
    "\n",
    "answer = call_bedrock_jamba(q_a_prompt,temperature=0.7)\n",
    "\n",
    "# Print the comparison result\n",
    "print(\"Answer:\")\n",
    "print(answer)\n"
   ]
  }
 ],
 "metadata": {
  "kernelspec": {
   "display_name": "conda_python3",
   "language": "python",
   "name": "conda_python3"
  },
  "language_info": {
   "codemirror_mode": {
    "name": "ipython",
    "version": 3
   },
   "file_extension": ".py",
   "mimetype": "text/x-python",
   "name": "python",
   "nbconvert_exporter": "python",
   "pygments_lexer": "ipython3",
   "version": "3.10.14"
  }
 },
 "nbformat": 4,
 "nbformat_minor": 5
}
