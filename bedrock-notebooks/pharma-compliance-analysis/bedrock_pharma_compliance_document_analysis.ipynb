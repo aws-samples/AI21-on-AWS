{
 "cells": [
  {
   "cell_type": "markdown",
   "id": "5c9dd2a1-655f-44e2-a77a-d11577c94766",
   "metadata": {},
   "source": [
    "# Using Jamba 1.5 on Bedrock for Standard Operating Procedures and Regulatory Document Analysis\n",
    "In the pharmaceutical industry, regulatory compliance is crucial for ensuring the safety and efficacy of drug products. Regulatory bodies like the FDA establish detailed guidelines for drug manufacturing processes, which companies must align with through their Standard Operating Procedures (SOPs). Drug compliance officers play a key role in this by reviewing SOPs to identify and rectify any inconsistencies with regulatory standards. Automation tools, such as AI-based comparison systems, can streamline this process by efficiently analyzing and highlighting discrepancies between SOPs and regulatory documents, thereby enhancing compliance accuracy and ensuring the continuous quality of pharmaceutical products.\n",
    "\n",
    "In this notebook, we use AI21's Jamba 1.5 Large model analyze Subpart E Title 21 of the [Code of Fedral Regulations](https://www.govinfo.gov/app/collection/cfr/2023/title21/chapterI/subchapterC/part211), this section is nearly 30 pages long. We will use Jamba-1.5 Large to perform contradiction detection, to see if a mock Standard Operating Procedure is consistent with the the regulatory document."
   ]
  },
  {
   "cell_type": "code",
   "execution_count": 1,
   "id": "2b7ed457-729a-41e3-af62-b6c76c12d4a6",
   "metadata": {},
   "outputs": [],
   "source": [
    "# Required imports\n",
    "import os\n",
    "import json\n",
    "import time\n",
    "import boto3\n",
    "\n",
    "# Function to read the contents of the files\n",
    "def read_file(file_path):\n",
    "    with open(file_path, 'r') as file:\n",
    "        return file.read()\n",
    "\n",
    "\n",
    "#Call Bedrock Converse API\n",
    "def call_bedrock_jamba(user_query, system_prompt):    \n",
    "    bedrock_client = boto3.client(service_name=\"bedrock-runtime\")\n",
    "    \n",
    "    model_id = \"ai21.jamba-1-5-large-v1:0\" #Jamba 1.5 Large\n",
    "    #model_id = \"ai21.jamba-1-5-mini-v1:0\" #Jamba 1.5 Mini\n",
    "    \n",
    "    messages = [{\n",
    "        \n",
    "        \"role\": \"user\", \n",
    "        \"content\": [\n",
    "                {\n",
    "                \"text\": user_query\n",
    "                },        \n",
    "            ]\n",
    "        }\n",
    "    ]\n",
    "    \n",
    "    # Base inference parameters to use.\n",
    "    inference_config = {\"temperature\": 0.7, \"maxTokens\" : 1024}\n",
    "\n",
    "    # Additional inference parameters to use.\n",
    "    additional_model_fields = {\"top_p\": 0.8}\n",
    "\n",
    "    response = bedrock_client.converse(\n",
    "        modelId=model_id,\n",
    "        messages=messages,\n",
    "        system=system_prompt,\n",
    "        inferenceConfig=inference_config,\n",
    "        additionalModelRequestFields=additional_model_fields\n",
    "    )\n",
    "    \n",
    "    output_message = response['output']['message']\n",
    "\n",
    "    print(f\"Role: {output_message['role']}\")\n",
    "\n",
    "    for content in output_message['content']:\n",
    "        print(f\"Text: {content['text']}\")\n",
    "\n",
    "    token_usage = response['usage']\n",
    "    \n",
    "    print(\"\\n\")\n",
    "    print(f\"Input tokens:  {token_usage['inputTokens']}\")\n",
    "    print(f\"Output tokens:  {token_usage['outputTokens']}\")\n",
    "    print(f\"Total tokens:  {token_usage['totalTokens']}\")\n",
    " \n",
    "\n",
    "    return output_message"
   ]
  },
  {
   "cell_type": "markdown",
   "id": "34be735e-1882-4b54-bea7-c3c0cb60fe85",
   "metadata": {},
   "source": [
    "Read in the SOP and Regulatory Document"
   ]
  },
  {
   "cell_type": "code",
   "execution_count": 2,
   "id": "ec782a5b-2aaa-4483-badf-b452fd647870",
   "metadata": {},
   "outputs": [],
   "source": [
    "# Paths to the text files\n",
    "sample_sop_path = 'sample_sop.txt'\n",
    "subpart_path = 'Subpart_E_163_190.txt'\n",
    "\n",
    "# Read the contents of the files\n",
    "sample_sop_content = read_file(sample_sop_path)\n",
    "subpart_content = read_file(subpart_path)\n"
   ]
  },
  {
   "cell_type": "markdown",
   "id": "73652b75-a847-409d-8fff-77e9cbfae165",
   "metadata": {},
   "source": [
    "## Prompt Jamba-1.5 model\n",
    "\n",
    "Next, we will prompt the Jamba-1.5 model to look for specific contradictions. Note that we also are using a system prompt, to have Jamba 1.5 take on the role of a compliance officer."
   ]
  },
  {
   "cell_type": "code",
   "execution_count": 3,
   "id": "69b96734-ea7e-4aa8-8c97-a08734099dd2",
   "metadata": {},
   "outputs": [
    {
     "name": "stdout",
     "output_type": "stream",
     "text": [
      "Role: assistant\n",
      "Text:  The SOP states that paracetamol can be immediately released to storage and is not required to be quarantined prior to testing. However, the Regulatory Document states that components, drug product containers, and closures shall be stored under quarantine until they have been tested or examined, whichever is appropriate, and released. This is a contradiction.\n",
      "\n",
      "\n",
      "Input tokens:  30044\n",
      "Output tokens:  68\n",
      "Total tokens:  30112\n"
     ]
    }
   ],
   "source": [
    "# System Prompt\n",
    "system_prompt = [{\"text\": f\"\"\"\n",
    "    You are a drug compliance officer. You examine Standard Operating Procedures (SOP) to see if they are consistent with regulations.\n",
    "    \"\"\"\n",
    "}]\n",
    "\n",
    "user_query = f\"\"\"\n",
    "    Explain clearly what the contradiction is, what the SOP says, and how it contradicts the Regulatory Document.\n",
    "\n",
    "    Standard Operating Procedure: \n",
    "    {sample_sop_content}\n",
    "\n",
    "    Regulatory Document:\n",
    "    {subpart_content}\n",
    "\n",
    "    Please analyze the documents documents and determine if the content of Standard Operating Procedure is consistent with the Regulatory Document. \n",
    "    Highlight any discrepancies. \n",
    "\n",
    "    Specifically, focus on any **blatant contradictions**, where \"Standard Operating Procedure\" specifies a procedure that directly contradicts the \"Regulatory\" Document.\n",
    "\n",
    "\n",
    "    Contradictions Result:\n",
    "    \"\"\"\n",
    "\n",
    "comparison_result = call_bedrock_jamba(user_query, system_prompt)\n",
    "\n",
    "\n"
   ]
  },
  {
   "cell_type": "markdown",
   "id": "356d543b-7536-4d44-a5f5-93cc0719c895",
   "metadata": {},
   "source": [
    "## Conclusion\n",
    "As you can see from the results above, Jamba 1.5 Large correctly picks up on the fact that in the SOP, Paracetamol is relesed to storage and not quarantined prior to being tested. This flatly contradicts the Regulatory document that requires that the drug product be quarantied prior to testing.  \n",
    "\n",
    "(note that you may see different results yourself, depending on the temperature you use when calling Jamba)"
   ]
  }
 ],
 "metadata": {
  "kernelspec": {
   "display_name": ".venv",
   "language": "python",
   "name": "python3"
  },
  "language_info": {
   "codemirror_mode": {
    "name": "ipython",
    "version": 3
   },
   "file_extension": ".py",
   "mimetype": "text/x-python",
   "name": "python",
   "nbconvert_exporter": "python",
   "pygments_lexer": "ipython3",
   "version": "3.12.5"
  }
 },
 "nbformat": 4,
 "nbformat_minor": 5
}
